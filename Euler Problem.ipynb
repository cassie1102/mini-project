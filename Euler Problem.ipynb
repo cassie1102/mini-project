{
 "cells": [
  {
   "cell_type": "markdown",
   "metadata": {},
   "source": [
    "# Solve 3 Euler Problem\n",
    "\n",
    "## Problem 8. Largest product in a series\n",
    "\n",
    "\n",
    "The four adjacent digits in the 1000-digit number that have the greatest product are 9 × 9 × 8 × 9 = 5832.\n",
    "\n",
    "73167176531330624919225119674426574742355349194934\n",
    "96983520312774506326239578318016984801869478851843\n",
    "85861560789112949495459501737958331952853208805511\n",
    "12540698747158523863050715693290963295227443043557\n",
    "66896648950445244523161731856403098711121722383113\n",
    "62229893423380308135336276614282806444486645238749\n",
    "30358907296290491560440772390713810515859307960866\n",
    "70172427121883998797908792274921901699720888093776\n",
    "65727333001053367881220235421809751254540594752243\n",
    "52584907711670556013604839586446706324415722155397\n",
    "53697817977846174064955149290862569321978468622482\n",
    "83972241375657056057490261407972968652414535100474\n",
    "82166370484403199890008895243450658541227588666881\n",
    "16427171479924442928230863465674813919123162824586\n",
    "17866458359124566529476545682848912883142607690042\n",
    "24219022671055626321111109370544217506941658960408\n",
    "07198403850962455444362981230987879927244284909188\n",
    "84580156166097919133875499200524063689912560717606\n",
    "05886116467109405077541002256983155200055935729725\n",
    "71636269561882670428252483600823257530420752963450\n",
    "\n",
    "Find the thirteen adjacent digits in the 1000-digit number that have the greatest product. What is the value of this product?"
   ]
  },
  {
   "cell_type": "code",
   "execution_count": 58,
   "metadata": {},
   "outputs": [],
   "source": [
    "x = '''\n",
    "73167176531330624919225119674426574742355349194934\n",
    "96983520312774506326239578318016984801869478851843\n",
    "85861560789112949495459501737958331952853208805511\n",
    "12540698747158523863050715693290963295227443043557\n",
    "66896648950445244523161731856403098711121722383113\n",
    "62229893423380308135336276614282806444486645238749\n",
    "30358907296290491560440772390713810515859307960866\n",
    "70172427121883998797908792274921901699720888093776\n",
    "65727333001053367881220235421809751254540594752243\n",
    "52584907711670556013604839586446706324415722155397\n",
    "53697817977846174064955149290862569321978468622482\n",
    "83972241375657056057490261407972968652414535100474\n",
    "82166370484403199890008895243450658541227588666881\n",
    "16427171479924442928230863465674813919123162824586\n",
    "17866458359124566529476545682848912883142607690042\n",
    "24219022671055626321111109370544217506941658960408\n",
    "07198403850962455444362981230987879927244284909188\n",
    "84580156166097919133875499200524063689912560717606\n",
    "05886116467109405077541002256983155200055935729725\n",
    "71636269561882670428252483600823257530420752963450\n",
    "'''"
   ]
  },
  {
   "cell_type": "code",
   "execution_count": 61,
   "metadata": {},
   "outputs": [],
   "source": [
    "def greatest_prod(x):\n",
    "    \"\"\"\n",
    "    Find the greatest 13-adjacent product in given string. \n",
    "    \n",
    "    Parameters\n",
    "    ----------\n",
    "    x : string\n",
    "        a string that contains only digits, white spaces and line breaks. \n",
    "        \n",
    "    Returns\n",
    "    -------\n",
    "    tuple\n",
    "        The 13-adjacent digits that generates greatest product, greatest product\n",
    "    \"\"\"\n",
    "    import numpy as np\n",
    "    \n",
    "    string = ''.join(x.split())\n",
    "    zipped = list(zip(string[:988], string[1:989], string[2:990], string[3:991], string[4:992], string[5:993], string[6:994], \n",
    "                      string[7:995], string[8:996], string[9:997], string[10:998], string[11:999], string[12:]))\n",
    "    digits = [list(map(int, s)) for s in zipped]\n",
    "\n",
    "    prod_lst = []\n",
    "    for lst in digits:\n",
    "        prod = np.prod(lst)\n",
    "        prod_lst.append(prod)\n",
    "    idx = np.argmax(prod_lst)\n",
    "    return (digits[idx], np.max(prod_lst))"
   ]
  },
  {
   "cell_type": "code",
   "execution_count": 62,
   "metadata": {},
   "outputs": [
    {
     "data": {
      "text/plain": [
       "([5, 5, 7, 6, 6, 8, 9, 6, 6, 4, 8, 9, 5], 23514624000)"
      ]
     },
     "execution_count": 62,
     "metadata": {},
     "output_type": "execute_result"
    }
   ],
   "source": [
    "greatest_prod(x)"
   ]
  },
  {
   "cell_type": "markdown",
   "metadata": {},
   "source": [
    "## Problem 41. Pandigital prime\n",
    "\n",
    "We shall say that an n-digit number is pandigital if it makes use of all the digits 1 to n exactly once. For example, 2143 is a 4-digit pandigital and is also prime.\n",
    "\n",
    "What is the largest n-digit pandigital prime that exists?"
   ]
  },
  {
   "cell_type": "markdown",
   "metadata": {},
   "source": [
    "By definition we know that pandigital number is at most 9-digit. The 9-digit pandigital number is a permutation of '987654321'. Since if the digit sum can be divided by 3, the whole number can be divided by 3 (which is not prime anymore), any permutation of '987654321' should not be prime since its digit sum equals 45. In a similar manner, the 8-digit pandigital numbers cannot be prime either. So the largest pandigital number exsited should be at most 7-digit. It can be shown that for n = 2, 3, 5, 6, all pandigital numbers are not prime so they should be ruled out as well. "
   ]
  },
  {
   "cell_type": "code",
   "execution_count": 167,
   "metadata": {},
   "outputs": [],
   "source": [
    "# define function is_prime\n",
    "\n",
    "def is_prime(x):\n",
    "    \"\"\"\n",
    "    Check if the given number is prime. \n",
    "    \n",
    "    Parameters\n",
    "    ----------\n",
    "    x : digits\n",
    "        a numerical number\n",
    "        \n",
    "    Returns\n",
    "    -------\n",
    "    boolean\n",
    "        True/False\n",
    "    \"\"\"\n",
    "    prime = True\n",
    "    for i in range(2, round(x/2) + 1):\n",
    "        if x % i == 0:\n",
    "            prime = False\n",
    "            break\n",
    "    return prime\n",
    "\n",
    "\n",
    "# define function largest_pandigital_prime\n",
    "\n",
    "def largest_pandigital_prime(n):\n",
    "    \"\"\"\n",
    "    Find the largest n-digit pandigital prime number. \n",
    "    \n",
    "    Parameters\n",
    "    ----------\n",
    "    n : digit\n",
    "        a numerical number between 4 and 7. \n",
    "        \n",
    "    Returns\n",
    "    -------\n",
    "    int\n",
    "        the largest n-digit pandigital prime number. \n",
    "    \"\"\"\n",
    "    \n",
    "    from itertools import permutations\n",
    "    assert n in [4, 7], 'Invalid input n. '\n",
    "    \n",
    "    per = permutations(range(n, 0, -1))\n",
    "\n",
    "    for p in per:\n",
    "        if p[-1] % 2 != 0:\n",
    "            number = int(''.join(map(str, p)))\n",
    "            if is_prime(number):\n",
    "                print(number)\n",
    "                break \n",
    "    "
   ]
  },
  {
   "cell_type": "code",
   "execution_count": 264,
   "metadata": {},
   "outputs": [
    {
     "name": "stdout",
     "output_type": "stream",
     "text": [
      "7652413\n"
     ]
    }
   ],
   "source": [
    "largest_pandigital_prime(7)"
   ]
  },
  {
   "cell_type": "markdown",
   "metadata": {},
   "source": [
    "## Problem 82. Path sum: three ways\n",
    "\n",
    "The minimal path sum in the 5 by 5 matrix below, by starting in any cell in the left column and finishing in any cell in the right column, and only moving up, down, and right, is indicated in red and bold; the sum is equal to 994.\n",
    "\n",
    " \n",
    "Find the minimal path sum from the left column to the right column in matrix.txt (right click and \"Save Link/Target As...\"), a 31K text file containing an 80 by 80 matrix.\n"
   ]
  },
  {
   "cell_type": "code",
   "execution_count": 253,
   "metadata": {},
   "outputs": [],
   "source": [
    "from urllib import request  # the lib that handles the url stuff\n",
    "import numpy as np\n",
    "\n",
    "txt = request.urlopen('https://projecteuler.net/project/resources/p082_matrix.txt').read()\n",
    "lines = [line.decode(\"utf-8\") for line in txt.split()]\n",
    "lst = [list(map(int, line.split(','))) for line in lines]"
   ]
  },
  {
   "cell_type": "code",
   "execution_count": 262,
   "metadata": {},
   "outputs": [],
   "source": [
    "def min_path_sum(lst):\n",
    "    \n",
    "    \"\"\"\n",
    "    Find the minimum path sum of only moving up, down, and right to travel from the first column to the last column in a matrix. \n",
    "    \n",
    "    Parameters\n",
    "    ----------\n",
    "    lst : list\n",
    "        list of list that stores a square matrix\n",
    "        \n",
    "    Returns\n",
    "    -------\n",
    "    int\n",
    "        the minimum path sum\n",
    "    \"\"\"\n",
    "    \n",
    "    size, size = np.shape(lst)\n",
    "    ans = [lst[i][size - 1] for i in range(size)]\n",
    "    for i in range(size - 2, -1, -1):\n",
    "        ans[0] = ans[0] + lst[0][i]\n",
    "        for j in range(1, size):\n",
    "            ans[j] = min(ans[j] + lst[j][i],ans[j-1] + lst[j][i])\n",
    "        for j in range(size - 2, -1, -1):\n",
    "            ans[j] = min(ans[j],ans[j + 1] + lst[j][i])\n",
    "    return min(ans)\n"
   ]
  },
  {
   "cell_type": "code",
   "execution_count": 263,
   "metadata": {},
   "outputs": [
    {
     "data": {
      "text/plain": [
       "260324"
      ]
     },
     "execution_count": 263,
     "metadata": {},
     "output_type": "execute_result"
    }
   ],
   "source": [
    "path_sum(lst)"
   ]
  },
  {
   "cell_type": "code",
   "execution_count": null,
   "metadata": {},
   "outputs": [],
   "source": []
  }
 ],
 "metadata": {
  "kernelspec": {
   "display_name": "Python 3",
   "language": "python",
   "name": "python3"
  },
  "language_info": {
   "codemirror_mode": {
    "name": "ipython",
    "version": 3
   },
   "file_extension": ".py",
   "mimetype": "text/x-python",
   "name": "python",
   "nbconvert_exporter": "python",
   "pygments_lexer": "ipython3",
   "version": "3.7.6"
  }
 },
 "nbformat": 4,
 "nbformat_minor": 4
}
